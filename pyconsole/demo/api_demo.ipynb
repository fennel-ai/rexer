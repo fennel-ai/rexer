{
 "cells": [
  {
   "cell_type": "code",
   "execution_count": 256,
   "id": "16b9c15b",
   "metadata": {},
   "outputs": [],
   "source": [
    "from rexerclient.rql import *\n",
    "from rexerclient import client\n",
    "import time"
   ]
  },
  {
   "cell_type": "code",
   "execution_count": 257,
   "id": "14c4f049",
   "metadata": {},
   "outputs": [],
   "source": [
    "#url = 'http://a3333e07f31614dd988930ad78f3f994-727687896.ap-south-1.elb.amazonaws.com/data'\n",
    "url = 'http://ad3946bfc322c4a23ac0f2546f1f6ea9-559200516.ap-south-1.elb.amazonaws.com/data'\n",
    "#url = 'http://localhost:2425'\n",
    "c = client.Client(url)"
   ]
  },
  {
   "cell_type": "code",
   "execution_count": 258,
   "id": "eb7db86a",
   "metadata": {},
   "outputs": [],
   "source": [
    "import requests\n",
    "import functools\n",
    "c.http = requests.Session()\n",
    "c.http.request = functools.partial(c.http.request, timeout=30)\n"
   ]
  },
  {
   "cell_type": "code",
   "execution_count": 259,
   "id": "4c9fbecb",
   "metadata": {},
   "outputs": [
    {
     "name": "stdout",
     "output_type": "stream",
     "text": [
      "duration:  0.5895018577575684\n"
     ]
    }
   ],
   "source": [
    "start = time.time()\n",
    "c.set_profile('unicorn', 12312, 'city', 'lahore')\n",
    "print('duration: ', time.time() - start)"
   ]
  },
  {
   "cell_type": "code",
   "execution_count": 260,
   "id": "fb8f23e1",
   "metadata": {},
   "outputs": [],
   "source": [
    "    # feature 1 -- no of views on Trail longer than 10 sec in the last 30 days\n",
    "q = Var('args').actions.apply(\n",
    "    Ops.std.filter(where=it.action_type == 'view'),\n",
    "    Ops.std.filter(where=it.metadata.watch_time >= 10),\n",
    "    Ops.std.addField(name='groupkey', value=it.target_id),\n",
    ")\n",
    "\n",
    "options = {'aggregate_type': 'count', 'duration': 3600*24*30}\n",
    "c.store_aggregate('trail_num_10sec_views_30days_v2', q, options)"
   ]
  },
  {
   "cell_type": "code",
   "execution_count": 261,
   "id": "8535d9c0",
   "metadata": {},
   "outputs": [],
   "source": [
    "# feature 2 -- for a userId Increase in the followers in last 7 & 28 days\n",
    "q = Var('args').actions.apply(\n",
    "    Ops.std.filter(where=it.action_type == 'follow'),\n",
    "    Ops.std.addField(name='groupkey', value=it.target_id),\n",
    ")\n",
    "\n",
    "options_7day = {'aggregate_type': 'count', 'duration': 3600*24*7}\n",
    "c.store_aggregate('user_num_follows_7day_v2', q, options_7day)"
   ]
  },
  {
   "cell_type": "code",
   "execution_count": 262,
   "id": "c78fdae9",
   "metadata": {},
   "outputs": [],
   "source": [
    "def store_aggregates(c):\n",
    "\n",
    "    q = Var('args').actions.apply(\n",
    "        Ops.std.filter(where=it.action_type == 'follow'),\n",
    "        Ops.std.addField(name='groupkey', value=it.target_id),\n",
    "    )\n",
    "\n",
    "\n",
    "\n",
    "    options_28day = {'aggregate_type': 'count', 'duration': 3600*24*28}\n",
    "    c.store_aggregate('user_num_follows_28day_v2', q, options_28day)\n",
    "\n",
    "    # Feature 3 -- Avg-watchtime of a Trail for given country+OS+city_state+mobile_brand+gender at\n",
    "    # {Sunday 11 to 12 am/current time} in the last 30 days\n",
    "\n",
    "    q = Var('args').actions.apply(\n",
    "        Ops.std.filter(where=it.action_type == 'view'),\n",
    "        Ops.std.profile(field='country', otype='user', oid=it.actor_id, key='country'),\n",
    "        Ops.std.profile(field='os', otype='user',oid=it.actor_id, key='os'),\n",
    "        Ops.std.profile(field='city_state',otype='user',oid=it.actor_id, key='city_state'),\n",
    "        Ops.std.profile(field='mobile_brand', otype='user', oid=it.actor_id, key='mobile_brand'),\n",
    "        Ops.std.profile(field='gender', otype='user', oid=it.actor_id, key='gender'),\n",
    "        Ops.time.addDayOfWeek(name='day_of_week', timestamp=it.timestamp),\n",
    "        Ops.time.addTimeBucketOfDay(name='time_bucket', timestamp=it.timestamp, bucket=3600),\n",
    "        Ops.std.addField(name='groupkey', value=[\n",
    "            it.target_id, it.country, it.os, it.city_state, it.mobile_brand, it.gender, it.day_of_week, it.time_bucket\n",
    "        ]),\n",
    "        Ops.std.addField(name='value', value=it.metadata.watch_time)\n",
    "    )\n",
    "\n",
    "    options = {'aggregate_type': 'average', 'duration': 3600*24*30}\n",
    "    c.store_aggregate('complex_feature_v2', q, options)\n",
    "\n",
    "    # feature  4 -- total views gained by a Trail on last 2 days for given city+gender+age_group\n",
    "    q = Var('args').actions.apply(\n",
    "        Ops.std.filter(where=it.action_type == 'view'),\n",
    "        Ops.std.profile(field='city', otype='user', oid=it.actor_id, key='city'),\n",
    "        Ops.std.profile(field='gender', otype='user', oid=it.actor_id, key='gender'),\n",
    "        Ops.std.profile(field='age_group', otype='user', oid=it.actor_id, key='age_group'),\n",
    "        Ops.std.addField(name='groupkey', value=[it.target_id, it.city, it.gender, it.age_group]),\n",
    "    )\n",
    "\n",
    "    options = {'duration': 3600*24*2, 'aggregate_type': 'count', }\n",
    "    c.store_aggregate('trail_view_by_city_gender_agegroup_2days_v2', q, options)\n",
    "\n",
    "    # feature 5 - avg-watchtime of a user id  for creatorId in 2-hour window averaged over 30 days\n",
    "    q = Var('args').actions.apply(\n",
    "        Ops.std.filter(where=it.action_type == 'view'),\n",
    "        Ops.std.profile(field='creator_id', otype='user', oid=it.actor_id, key='creatorId'),\n",
    "        Ops.time.addTimeBucketOfDay(name='time_bucket', timestamp=it.timestamp, bucket=2*3600),\n",
    "        Ops.std.addField(name='groupkey', value=[it.actor_id, it.creator_id]),\n",
    "        Ops.std.addField(name='value', value=it.metadata.watch_time),\n",
    "    )\n",
    "    options = {'aggregate_type': 'average', 'duration': 3600*24*30}\n",
    "    c.store_aggregate('user_creator_avg_watchtime_by_2hour_windows_30days_v2', q, options)\n",
    "\n"
   ]
  },
  {
   "cell_type": "code",
   "execution_count": 263,
   "id": "83a9ab95",
   "metadata": {},
   "outputs": [],
   "source": [
    "def set_profiles(c, profiles):\n",
    "    for profile in profiles:\n",
    "       c.set_profile(profile['otype'], profile['oid'], profile['key'], profile['value'])\n"
   ]
  },
  {
   "cell_type": "code",
   "execution_count": 264,
   "id": "373c1127",
   "metadata": {},
   "outputs": [],
   "source": [
    "# now let's store the feature definitions (more technically known as \"aggregates\") using the client\n",
    "store_aggregates(c)"
   ]
  },
  {
   "cell_type": "code",
   "execution_count": 265,
   "id": "1a128733",
   "metadata": {},
   "outputs": [],
   "source": [
    "\n",
    "# some features need some profile data. Since we don't have all the profile data yet, we will just\n",
    "# store some of it manually\n",
    "uid = 123\n",
    "trell_id = 567\n",
    "creator_id = 789\n",
    "city = 'delhi'\n",
    "gender = 1\n",
    "age_group = '18_24'\n",
    "country = 'IN'\n",
    "os = 'android'\n",
    "city_state = 'dehradun_uttarakhand'\n",
    "mobile_brand = 'samsung'\n",
    "\n",
    "set_profiles(c, [\n",
    "    {'otype':'user', 'oid':uid, 'key':'city', 'value':city},\n",
    "    {'otype':'user', 'oid':uid, 'key':'gender', 'value':gender},\n",
    "    {'otype':'user', 'oid':uid, 'key':'age_group', 'value':age_group},\n",
    "    {'otype':'user', 'oid':uid, 'key':'country', 'value':country},\n",
    "    {'otype':'user', 'oid':uid, 'key':'os', 'value':os},\n",
    "    {'otype':'user', 'oid':uid, 'key':'city_state', 'value':city_state},\n",
    "    {'otype':'user', 'oid':uid, 'key':'mobile_brand', 'value':mobile_brand},\n",
    "    {'otype':'trell', 'oid':trell_id, 'key':'creatorId', 'value':creator_id},\n",
    "])\n",
    "\n",
    "\n",
    "# now log a few actions - as these actions are logged, they will be picked up by stored aggregates\n",
    "# in near realtime (with a lag of maybe a couple of minutes) and processed\n",
    "\n",
    "# this action denotes that user with id: uid watched trell for 31 seconds\n",
    "# note that any action has actor_type, actor_id, target_type, target_id, action_type, and timestamp\n",
    "# but we can log any additional data with metadata, which can be an arbitrary jsonable data\n",
    "c.log(actor_type='user', actor_id=uid, target_type='trail', target_id=trell_id, action_type='view',\n",
    "      timestamp=int(time.time()), request_id=1, metadata={'watch_time': 31})\n",
    "\n",
    "# another view action, but this time watch time is < 10 sec\n",
    "c.log(actor_type='user', actor_id=uid, target_type='trail', target_id=trell_id, action_type='view',\n",
    "      timestamp=int(time.time()), request_id=1, metadata={'watch_time': 7})\n",
    "\n",
    "# now this is a follow action. Metadata is optional so we don't pass it here\n",
    "c.log(actor_type='user', actor_id=uid, target_type='user', target_id=creator_id, action_type='follow',\n",
    "      timestamp=int(time.time()), request_id=1, metadata = {'watch_time': 25})\n",
    "\n"
   ]
  },
  {
   "cell_type": "code",
   "execution_count": null,
   "id": "db2bab6f",
   "metadata": {},
   "outputs": [],
   "source": [
    "f1 = c.aggregate_value('user_num_follows_28day_v2', trell_id)\n",
    "print(f1)\n"
   ]
  },
  {
   "cell_type": "code",
   "execution_count": null,
   "id": "06bd167a",
   "metadata": {},
   "outputs": [],
   "source": []
  }
 ],
 "metadata": {
  "kernelspec": {
   "display_name": "Python 3 (ipykernel)",
   "language": "python",
   "name": "python3"
  },
  "language_info": {
   "codemirror_mode": {
    "name": "ipython",
    "version": 3
   },
   "file_extension": ".py",
   "mimetype": "text/x-python",
   "name": "python",
   "nbconvert_exporter": "python",
   "pygments_lexer": "ipython3",
   "version": "3.9.6"
  }
 },
 "nbformat": 4,
 "nbformat_minor": 5
}
