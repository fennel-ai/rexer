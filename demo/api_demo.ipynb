{
 "cells": [
  {
   "cell_type": "code",
   "execution_count": 50,
   "id": "16b9c15b",
   "metadata": {},
   "outputs": [],
   "source": [
    "import rexerclient\n",
    "from rexerclient import rql\n",
    "from rexerclient.rql import *\n",
    "from rexerclient import client\n",
    "from rexerclient.models import action\n",
    "import time\n",
    "from rexerclient import models\n",
    "from rexerclient.models import value"
   ]
  },
  {
   "cell_type": "code",
   "execution_count": 57,
   "id": "14c4f049",
   "metadata": {},
   "outputs": [],
   "source": [
    "url = 'http://172.31.28.201/data'\n",
    "c = client.Client(url)"
   ]
  },
  {
   "cell_type": "code",
   "execution_count": 70,
   "id": "c78fdae9",
   "metadata": {},
   "outputs": [],
   "source": [
    "# for entity which is of type \"video\" and video_id: 12312, set \"category_id\" to be 31\n",
    "# c.set_profile(\"user\", 12312, \"age\", 31)\n",
    "\n",
    "pi = models.profile.ProfileItem()\n",
    "pi.Oid = 12312\n",
    "pi.OType = 'video'\n",
    "pi.Key = \"category\"\n",
    "pi.Value.CopyFrom(value.Int(31))\n",
    "pi.CustID = 1\n",
    "c.set_profile(pi)"
   ]
  },
  {
   "cell_type": "code",
   "execution_count": 63,
   "id": "83a9ab95",
   "metadata": {},
   "outputs": [
    {
     "data": {
      "text/plain": [
       "Int: 31"
      ]
     },
     "execution_count": 63,
     "metadata": {},
     "output_type": "execute_result"
    }
   ],
   "source": [
    "req = models.profile.ProfileItem()\n",
    "req.Oid = 12312\n",
    "req.OType = 'user'\n",
    "req.Key = 'age'\n",
    "req.CustID = 1\n",
    "c.get_profile(pi)"
   ]
  },
  {
   "cell_type": "code",
   "execution_count": 64,
   "id": "1a128733",
   "metadata": {},
   "outputs": [],
   "source": [
    "a = action.Action()\n",
    "a.ActionType = 'like'\n",
    "a.ActorType = 'user'\n",
    "a.ActorID = 12312\n",
    "a.TargetType = 'video'\n",
    "a.TargetID = 82342\n",
    "a.RequestID = 523423 # request is the feed load in which this action took place\n",
    "a.Timestamp = int(time.time()) # seconds since epoch when this action took place\n",
    "a.CustID = 1  # ignore\n",
    "\n",
    "# does the API for logging actions need to be in Python or Go?\n",
    "# answer: needs both Python + go clients"
   ]
  },
  {
   "cell_type": "code",
   "execution_count": 65,
   "id": "db2bab6f",
   "metadata": {},
   "outputs": [],
   "source": [
    "c.log(a)\n"
   ]
  },
  {
   "cell_type": "code",
   "execution_count": 66,
   "id": "115cb831",
   "metadata": {},
   "outputs": [
    {
     "data": {
      "text/plain": [
       "[ActionID: 1\n",
       " CustID: 1\n",
       " ActorID: 12312\n",
       " ActorType: \"user\"\n",
       " TargetID: 82342\n",
       " TargetType: \"video\"\n",
       " ActionType: \"like\"\n",
       " Timestamp: 1643689125\n",
       " RequestID: 523423,\n",
       " ActionID: 2\n",
       " CustID: 1\n",
       " ActorID: 12312\n",
       " ActorType: \"user\"\n",
       " TargetID: 82342\n",
       " TargetType: \"video\"\n",
       " ActionType: \"like\"\n",
       " Timestamp: 1643689149\n",
       " RequestID: 523423]"
      ]
     },
     "execution_count": 66,
     "metadata": {},
     "output_type": "execute_result"
    }
   ],
   "source": [
    "c.fetch(action.ActionFetchRequest())"
   ]
  },
  {
   "cell_type": "code",
   "execution_count": 68,
   "id": "81380303",
   "metadata": {},
   "outputs": [],
   "source": [
    "\n",
    "    \n",
    "\n",
    "# Given a uid, what is their average watch time on any video they might have seen?\n",
    "# when you log the action, you store video watch time in a field called 'action_value'\n",
    "    \n",
    "# this following query measures the total time spent by the user on any video in last x days\n",
    "q1 = Var('args').actions.apply(\n",
    "    Ops.std.filter(where=at.action_type == String('video_view'))).apply(        # filter to only 'like' actions\n",
    "    Ops.std.addColumn(name='key', value=List(at.actor_id), increment=at.action_value)   # counter key is (uid)\n",
    ")\n",
    "options = models.aggregate.AggOptions()\n",
    "options.duration = 3600*24*9  # 3 day rolling counters\n",
    "c.store_aggregate('rolling_counter', 'user_video_like', q, options)\n",
    "\n",
    "\n",
    "# measures total videos viewed by the user uid in the last x days\n",
    "q2 = Var('args').actions.apply(\n",
    "    Ops.std.addProfileColumn(otype='video', oid=at.target_id, key='category').apply(\n",
    "    Ops.std.addProfileColumn(otype='user', oid=at.user_id, key='age').apply(\n",
    "    Ops.std.filter(where=at.action_type == String('video_view'))).apply(        # filter to only 'like' actions\n",
    "    Ops.std.addColumn(name='key', value=List(at.actor_id, at.gender, at.age, at.group_id), increment=1)   # counter key is (uid)\n",
    ")\n",
    "options = models.aggregate.AggOptions()\n",
    "options.duration = 3600*24*9  # 3 day rolling counters\n",
    "c.store_aggregate('rolling_counter', 'user_video_like', q, options)\n",
    "\n",
    "find(q1) / find(q2)\n"
   ]
  },
  {
   "cell_type": "code",
   "execution_count": 69,
   "id": "05a2627e",
   "metadata": {},
   "outputs": [
    {
     "data": {
      "text/plain": [
       "Int: 0"
      ]
     },
     "execution_count": 69,
     "metadata": {},
     "output_type": "execute_result"
    }
   ],
   "source": [
    "req = models.aggregate.GetAggValueRequest()\n",
    "req.agg_type = 'rolling_counter'\n",
    "req.agg_name = 'user_video_like'\n",
    "req.key.CopyFrom(value.List(value.Int(12312), value.Int(82342)))\n",
    "c.aggregate_value(req)"
   ]
  },
  {
   "cell_type": "code",
   "execution_count": null,
   "id": "8a1d8fcc",
   "metadata": {},
   "outputs": [],
   "source": []
  }
 ],
 "metadata": {
  "kernelspec": {
   "display_name": "Python 3 (ipykernel)",
   "language": "python",
   "name": "python3"
  },
  "language_info": {
   "codemirror_mode": {
    "name": "ipython",
    "version": 3
   },
   "file_extension": ".py",
   "mimetype": "text/x-python",
   "name": "python",
   "nbconvert_exporter": "python",
   "pygments_lexer": "ipython3",
   "version": "3.9.9"
  }
 },
 "nbformat": 4,
 "nbformat_minor": 5
}
